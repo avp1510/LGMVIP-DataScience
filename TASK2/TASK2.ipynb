{
 "cells": [
  {
   "cell_type": "markdown",
   "id": "3a9dbbae",
   "metadata": {},
   "source": [
    "# Task 2 - Image to pencil Sketch with python\n",
    "# Name- Abhishek Phaltankar"
   ]
  },
  {
   "cell_type": "code",
   "execution_count": 1,
   "id": "921d2766",
   "metadata": {},
   "outputs": [
    {
     "name": "stdout",
     "output_type": "stream",
     "text": [
      "Requirement already satisfied: opencv-python in c:\\users\\inspire\\anaconda3.1\\lib\\site-packages (4.5.3.56)\n",
      "Requirement already satisfied: numpy>=1.17.3 in c:\\users\\inspire\\anaconda3.1\\lib\\site-packages (from opencv-python) (1.20.1)\n"
     ]
    }
   ],
   "source": [
    "!pip install opencv-python"
   ]
  },
  {
   "cell_type": "code",
   "execution_count": 2,
   "id": "1db491fb",
   "metadata": {},
   "outputs": [],
   "source": [
    "import matplotlib.pyplot as plt\n",
    "%matplotlib inline"
   ]
  },
  {
   "cell_type": "code",
   "execution_count": 3,
   "id": "9cd75e87",
   "metadata": {},
   "outputs": [],
   "source": [
    "import cv2"
   ]
  },
  {
   "cell_type": "code",
   "execution_count": 4,
   "id": "32ab56b7",
   "metadata": {},
   "outputs": [],
   "source": [
    "image =cv2.imread(\"squirel.png\")"
   ]
  },
  {
   "cell_type": "code",
   "execution_count": 5,
   "id": "a8c1973c",
   "metadata": {},
   "outputs": [],
   "source": [
    "grey_img=cv2.cvtColor(image,cv2.COLOR_BGR2GRAY)"
   ]
  },
  {
   "cell_type": "code",
   "execution_count": 6,
   "id": "8f1b312f",
   "metadata": {},
   "outputs": [],
   "source": [
    "invert=cv2.bitwise_not(grey_img)"
   ]
  },
  {
   "cell_type": "code",
   "execution_count": 7,
   "id": "a82e3fe0",
   "metadata": {},
   "outputs": [],
   "source": [
    "blur=cv2.GaussianBlur(invert,(21,21),0)"
   ]
  },
  {
   "cell_type": "code",
   "execution_count": 8,
   "id": "995c2661",
   "metadata": {},
   "outputs": [],
   "source": [
    "inverted_blur=cv2.bitwise_not(blur)"
   ]
  },
  {
   "cell_type": "code",
   "execution_count": 9,
   "id": "bbb74c90",
   "metadata": {},
   "outputs": [],
   "source": [
    "sketch=cv2.divide(grey_img,inverted_blur,scale=256.0)"
   ]
  },
  {
   "cell_type": "code",
   "execution_count": 10,
   "id": "74df1a6b",
   "metadata": {},
   "outputs": [
    {
     "data": {
      "text/plain": [
       "True"
      ]
     },
     "execution_count": 10,
     "metadata": {},
     "output_type": "execute_result"
    }
   ],
   "source": [
    "cv2.imwrite(\"sketch1.png\",sketch)"
   ]
  }
 ],
 "metadata": {
  "kernelspec": {
   "display_name": "Python 3",
   "language": "python",
   "name": "python3"
  },
  "language_info": {
   "codemirror_mode": {
    "name": "ipython",
    "version": 3
   },
   "file_extension": ".py",
   "mimetype": "text/x-python",
   "name": "python",
   "nbconvert_exporter": "python",
   "pygments_lexer": "ipython3",
   "version": "3.8.8"
  }
 },
 "nbformat": 4,
 "nbformat_minor": 5
}
